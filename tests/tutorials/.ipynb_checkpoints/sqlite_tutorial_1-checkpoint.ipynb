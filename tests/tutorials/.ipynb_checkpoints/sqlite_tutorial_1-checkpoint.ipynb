{
 "cells": [
  {
   "cell_type": "markdown",
   "id": "f76038d7-1af2-4675-adbd-f13e8ed6475f",
   "metadata": {},
   "source": [
    "# sqlite3 basics\n",
    "\n",
    "sqlite is a full-featured relational database system. Sqlite does not use a client-server architecture: all the code for the database is contained in the driver . All the data for each database is contained in a simple *platform-independent* file. It is powerful,  secure, and especially efficient since it doesn't use a server. It is included in most python distributions, so it was preinstalled on 619. \n",
    "If your python distribution for some reason doesn't include sqlite3, install it with the command:\n",
    "\n",
    "`sudo apt-get install sqlite3`\n",
    "\n",
    "for Debian architectures. If you have Mac, then you already have it preinstalledthen it comes pre-installed on Mac! It is both an executable and a python module, so tunning `sqlite3` in the terminal will open up the sqlite3 shell, such that you can run any of the commands in the shell directly. Alternatively, you can use it as a python module as I shall describe below. \n",
    "\n",
    "\n",
    "## sqlite browser\n",
    "\n",
    "Even more convenient, sqlite databases (that is, databses ending in `.db`) allow one to use sqlitebrowser to do quick inspection, queries and other commands using a Graphical User Interface (GUI), without much knowledge of any syntax. If you don't have sqlitebrowser, **I highly recommend that you install it** and use it. If you have Debian architectures, it can be installed with\n",
    "`sudo apt-get install sqlitebrowser`\n",
    "\n",
    "If you have Windows, download the appropriate installer from `https://sqlitebrowser.org/dl/`\n",
    "\n",
    "If you have MacOS, install it with the command `brew install --cask db-browser-for-sqlite` or by downloading the latest release on `https://sqlitebrowser.org/dl/`.\n",
    "\n",
    "After you have installed sqlitebrowser, you can inspect our database `TESTME.db`, which is located in the `tests` directory with the command \n",
    "`sqlitebrowser TESTME.db `\n",
    "\n",
    "This can be done by anyone at home! go to the `Browse Data` tab, and choose which table you want from the `Table` dropdown menu. After choosing a table from the dropdown, type any query you would like under the column(s) that you would like to use (i.e. type under the columns where it says \"Filter\").\n"
   ]
  },
  {
   "cell_type": "markdown",
   "id": "51574940-b101-4231-8350-2f2cd33c4b89",
   "metadata": {},
   "source": [
    "# Using sqlite3 for queries on the command line\n",
    "\n",
    "In the terminal, go to the `tests` directory of this repository, and open up our database by doing \n",
    "\n",
    "`sqlite3 TESTME.db`\n",
    "\n",
    "Now, to show a list of the tables that are available in this database, do `.tables`. You can examine each table in this list. \n",
    "\n",
    "Suppose you want to see everything in the `STRIP_SENSOR_LOGISTICS` table, then do the command\n",
    "\n",
    "`SELECT * FROM STRIP_SENSOR_LOGISTICS;`\n",
    "\n",
    "This displays everything, although everything is squeeszed together. This is because the default display (\"output\") mode is \"list\". You can double check this by doing `.mode`. This will output \"current output mode: list\". The nice thing is that there are may display modes you can choose from:\n",
    "\n",
    "### Available display modes:\n",
    "\n",
    "- ascii \n",
    "- box\n",
    "- csv\n",
    "- column\n",
    "- html\n",
    "- insert\n",
    "- json\n",
    "- line\n",
    "- list\n",
    "- markdown\n",
    "- quote\n",
    "- table\n",
    "- tabs\n",
    "- tcl\n",
    "\n",
    "You can examine these modes, and see which ones you like. I like the \"markdown\" mode, because it displays all the column names with large spacing. You can switch to it by doing\n",
    "\n",
    "`.mode markdown`\n",
    "\n"
   ]
  },
  {
   "cell_type": "code",
   "execution_count": 1,
   "id": "304028ac-8796-4838-afec-784f7e34c2f7",
   "metadata": {},
   "outputs": [],
   "source": [
    "try:\n",
    "    import sqlite3 as sql\n",
    "    have_sqlite3 = True\n",
    "except ImportError:\n",
    "    sqlite3=None\n",
    "    print(\"you don't have sqlite3, do 'sudo apt-get install sqlite3'\")"
   ]
  },
  {
   "cell_type": "code",
   "execution_count": null,
   "id": "2d6949dc-361b-4bf4-b029-ad73dcfd0ec3",
   "metadata": {},
   "outputs": [],
   "source": []
  }
 ],
 "metadata": {
  "kernelspec": {
   "display_name": "Python 3 (ipykernel)",
   "language": "python",
   "name": "python3"
  },
  "language_info": {
   "codemirror_mode": {
    "name": "ipython",
    "version": 3
   },
   "file_extension": ".py",
   "mimetype": "text/x-python",
   "name": "python",
   "nbconvert_exporter": "python",
   "pygments_lexer": "ipython3",
   "version": "3.7.7"
  }
 },
 "nbformat": 4,
 "nbformat_minor": 5
}
